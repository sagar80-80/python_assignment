{
 "cells": [
  {
   "cell_type": "code",
   "execution_count": 1,
   "metadata": {},
   "outputs": [],
   "source": [
    "\"\"\"Q 1\n",
    "\n",
    "1.\tConvert a number into a string that contains raindrop sounds analogous to a set of certain potential factors. A factor is a number that evenly divides into another number leaving no remainder. \n",
    "Rules:\n",
    "1.\tIf a given number has “3” as a factor, add “Pling” to the result.\n",
    "2.\tIf a given number has “5” as a factor, add “Plang” to the result.\n",
    "3.\tIf a given number has “7” as a factor, add “Plong” to the result.\n",
    "4.\tIf a given number does not have any of the “3”, “5”, “7” as a factor, the result should be the digits of the number.\n",
    "    \tExamples:\n",
    "1.\t28 has 7 as a factor, but not 3 or 5, so the result would be “Plong”.\n",
    "2.\t30 has both 3 and 5 as factors, but not 7, so the result would be “PlingPlang”\n",
    "3.\t34 is not factored by 3, 5, or 7, so the result would be ”34”.\n",
    "\"\"\"\n",
    "def convert(n):\n",
    "    if(n%3==0):\n",
    "        return f\"Pling\"\n",
    "    elif(n%5==0):\n",
    "        return f\"Plang\"\n",
    "    elif(n%7==0):\n",
    "        return f\"Plong\"\n",
    "    else:\n",
    "        return n\n",
    "result1=convert(3)\n",
    "print(result1)\n",
    "\n",
    "result1=convert(5)\n",
    "print(result1)\n",
    "\n",
    "result1=convert(7)\n",
    "print(result1)\n",
    "\n",
    "result1=convert(34)\n",
    "print(result1)"
   ]
  },
  {
   "cell_type": "code",
   "execution_count": 2,
   "metadata": {},
   "outputs": [],
   "source": [
    "#Q2\n",
    "\n",
    "def difference(n):\n",
    "    \"\"\"\n",
    "        This program will return difference between the square of sum and sum of the square. \n",
    "    \"\"\"\n",
    "    sumOfSquare = 0\n",
    "    squareOfSum = 0\n",
    "    for i in range(n+1):\n",
    "        squareOfSum =squareOfSum + i  \n",
    "        sumOfSquare = sumOfSquare + i ** 2\n",
    "    return squareOfSum ** 2 - sumOfSquare\n",
    "\n",
    "result=difference(100)\n",
    "print(result)\n"
   ]
  },
  {
   "cell_type": "code",
   "execution_count": 3,
   "metadata": {},
   "outputs": [
    {
     "name": "stdout",
     "output_type": "stream",
     "text": [
      "104744\n"
     ]
    }
   ],
   "source": [
    "#Q3\n",
    "countprime=0\n",
    "n=2\n",
    "def prime(number):\n",
    "    for factors in range(2, number):\n",
    "        if number%factors==0:\n",
    "            return False\n",
    "            break\n",
    "    return True\n",
    "\n",
    "while countprime!=10001:\n",
    "    if prime(n)==True:\n",
    "        countprime+=1\n",
    "    n+=1\n",
    "print(n)\n"
   ]
  },
  {
   "cell_type": "code",
   "execution_count": 4,
   "metadata": {},
   "outputs": [
    {
     "name": "stdout",
     "output_type": "stream",
     "text": [
      "2318\n"
     ]
    }
   ],
   "source": [
    "#Q4\n",
    "total_sum = 0\n",
    "for i in range(100):\n",
    "    if (i%3 == 0 or i%5 == 0):\n",
    "        total_sum = total_sum+i\n",
    "print (total_sum )\n"
   ]
  },
  {
   "cell_type": "code",
   "execution_count": 5,
   "metadata": {},
   "outputs": [
    {
     "name": "stdout",
     "output_type": "stream",
     "text": [
      "[1, 2, 3, 0, 4, 0, 5]\n"
     ]
    }
   ],
   "source": [
    "#Q5\n",
    "def flatten(iterable):\n",
    "    a = []\n",
    "    for x in iterable:\n",
    "        if x == None:\n",
    "            continue\n",
    "        elif not isinstance(x, (list, tuple)):\n",
    "            a.append(x)\n",
    "        else:\n",
    "            a.extend(flatten(x))\n",
    "    return a       \n",
    "result=flatten( [1,[2,3,0,4],[0],5])\n",
    "print(result)\n"
   ]
  }
 ],
 "metadata": {
  "kernelspec": {
   "display_name": "Python 3",
   "language": "python",
   "name": "python3"
  },
  "language_info": {
   "codemirror_mode": {
    "name": "ipython",
    "version": 3
   },
   "file_extension": ".py",
   "mimetype": "text/x-python",
   "name": "python",
   "nbconvert_exporter": "python",
   "pygments_lexer": "ipython3",
   "version": "3.8.5"
  }
 },
 "nbformat": 4,
 "nbformat_minor": 4
}
